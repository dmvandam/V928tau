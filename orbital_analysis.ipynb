{
 "cells": [
  {
   "cell_type": "markdown",
   "metadata": {},
   "source": [
    "# V928 Tau - Orbital Analysis"
   ]
  },
  {
   "cell_type": "markdown",
   "metadata": {},
   "source": [
    "Using the light curve data, the parameters obtained from the eclipse fit and all the remaining photometry from ground surveys we can do orbital analysis. This is based in large part on the size of the disk, stability criteria and the transverse velocity found.\n",
    "\n",
    "1) the transverse velocity tells you what the circular velocity would be for a Keplerian orbit. If this is not believeable we can attempt to \"fit\" an elliptical orbit by constructing a grid of secondary masses and periods\n",
    "\n",
    "2) the size of the disk can give a minimum mass constraint based on the formula for the Hill radius of the secondary\n",
    "\n",
    "3) we know that the orbit has to have a semi-major axis that is small enough to bind it to a single component of the V928 Tau binary"
   ]
  },
  {
   "cell_type": "code",
   "execution_count": 1,
   "metadata": {},
   "outputs": [],
   "source": [
    "import numpy as np\n",
    "import astropy.units as u\n",
    "import astropy.constants as c\n",
    "import matplotlib.pyplot as plt\n",
    "from Code import orbital_analysis as oa\n",
    "\n",
    "%matplotlib inline"
   ]
  },
  {
   "cell_type": "markdown",
   "metadata": {},
   "source": [
    "## Stellar and Disk Parameters"
   ]
  },
  {
   "cell_type": "markdown",
   "metadata": {},
   "source": [
    "Here we define the stellar parameters (magnetic and standard models help determine the mass and radius is determined from $v \\sin i$ values) and disk parameters from the eclipse modeling notebook."
   ]
  },
  {
   "cell_type": "markdown",
   "metadata": {},
   "source": [
    "### Stellar Parameters"
   ]
  },
  {
   "cell_type": "code",
   "execution_count": null,
   "metadata": {},
   "outputs": [],
   "source": [
    "# V928 Tau A\n",
    "M1m = 0.700 * u.Msun\n",
    "M1s = 0.450 * u.Msun\n",
    "R1  = 1.376 * u.Rsun\n",
    "\n",
    "# V928 Tau B\n",
    "M2m = 0.700 * u.Msun\n",
    "M2s = 0.460 * u.Msun\n",
    "R2  = 1.296 * u.Rsun\n",
    "\n",
    "# V928 Tau separation\n",
    "a_bin = 32 * u.au\n",
    "\n",
    "# compound lists\n",
    "Ms = [M1m, M1s, M2m, M2s]\n",
    "Rs = [R1, R1, R2, R2]\n",
    "host_lbls = ['A (magnetic)', 'A (standard)', 'B (magnetic)', 'B (standard)']"
   ]
  },
  {
   "cell_type": "markdown",
   "metadata": {},
   "source": [
    "### Disk Parameters"
   ]
  },
  {
   "cell_type": "code",
   "execution_count": null,
   "metadata": {},
   "outputs": [],
   "source": [
    "# load parameters\n",
    "pb = np.load('/Users/dmvandam/SurfDrive/phd/projects/v928tau/models/eclipse_model_hlm.npy')\n",
    "rdisk, b, inc, tilt, vt, dt, tau = pb\n",
    "\n",
    "# calculate total size\n",
    "rtot = rdisk\n",
    "\n",
    "# transform to SI units\n",
    "r1 = (rtot * R1).to(u.au)\n",
    "r2 = (rtot * R2).to(u.au)\n",
    "rs = [r1, r1, r2, r2]\n",
    "\n",
    "# convert to km/s\n",
    "v1 = (vt * R1 / u.day).to(u.km / u.s)\n",
    "v2 = (vt * R2 / u.day).to(u.km / u.s)\n",
    "vs = [v1, v1, v2, v2]"
   ]
  },
  {
   "cell_type": "markdown",
   "metadata": {},
   "source": [
    "## Circular Orbit"
   ]
  },
  {
   "cell_type": "markdown",
   "metadata": {},
   "source": [
    "We start with the limiting case, where we assume that the secondary is on a circular orbit. $\\ \\ \\ \\ \\ \\ \\ \\ m\\frac{v_{circ}^2}{r} = \\frac{GmM}{r^2} \\rightarrow r = \\frac{GM}{v_{circ}^2}$"
   ]
  },
  {
   "cell_type": "code",
   "execution_count": null,
   "metadata": {},
   "outputs": [],
   "source": [
    "# find semi-major axis for a keplerian orbit\n",
    "a_circs = []\n",
    "for M, v, lbl in zip(Ms, vs, host_lbls):\n",
    "    a_circ = oa.vcirc_to_a(M, 0*u.Mjup, v)\n",
    "    print('semimajor axis %s: %.4f %s' % (lbl, a_circ.value, a_circ.unit))\n",
    "    a_circs.append(a_circ)"
   ]
  },
  {
   "cell_type": "code",
   "execution_count": null,
   "metadata": {},
   "outputs": [],
   "source": [
    "# find the relevant periods (which depend on mass of the secondary)\n",
    "Mp = np.linspace(0, 80, 801) * u.Mjup\n",
    "Ps = []\n",
    "\n",
    "plt.figure(figsize=(16,6))\n",
    "plt.title('Period vs Mass for a Keplerian Orbit')\n",
    "for ac, M, lbl in zip(a_circs, Ms, host_lbls):\n",
    "    P = oa.a_to_P(ac, M, Mp).to(u.day)\n",
    "    plt.plot(P, Mp, label='host = V928 Tau %s' % lbl)\n",
    "    Ps.append(P)\n",
    "plt.axvline(x=66, label='minimum orbital period', color='k', ls=':')\n",
    "plt.ylim(0, 80)\n",
    "plt.ylabel('Secondary Mass [$M_{jup}$]')\n",
    "plt.xlabel('Period [days]')\n",
    "plt.legend()\n",
    "plt.show()"
   ]
  },
  {
   "cell_type": "markdown",
   "metadata": {},
   "source": [
    "This plot implies that for a circular orbit with a period exceeding 66 days the mass of the secondary must be negative, which is of course impossible. We must assume that the orbit is thus eccentric."
   ]
  },
  {
   "cell_type": "markdown",
   "metadata": {},
   "source": [
    "## Eccentric Orbit"
   ]
  },
  {
   "cell_type": "markdown",
   "metadata": {},
   "source": [
    "Now we need to construct mass, period grids to do \"simulations\" to see what possible orbital configurations are possible. Our basic constraints are as follows:\n",
    "\n",
    "1) we have a periastron velocity given by the eclipse fit\n",
    "\n",
    "2) the apastron distance must be $r_{ap} <= 3.2 AU$, this being 10% of the binary separation\n",
    "\n",
    "3) the Hill radius must exceed the size of the disk with a stability factor ($0.3 \\, r_{Hill} > r_{disk}$)\n",
    "\n",
    "4) the disk must be stable at periastron passage (so $r_{Hill}$ evaluated at $r_{peri}$)\n",
    "\n",
    "5) the period must exceed 66 days ($P > 66$ days)"
   ]
  },
  {
   "cell_type": "markdown",
   "metadata": {},
   "source": [
    "### Parameter Constraints"
   ]
  },
  {
   "cell_type": "code",
   "execution_count": null,
   "metadata": {},
   "outputs": [],
   "source": [
    "# parameter limits\n",
    "rap_max = a_bin * 0.1                       # stability of orbit\n",
    "rh_min  = [r1/0.3, r1/0.3, r2/0.3, r2/0.3] # minimum Hill radii\n",
    "\n",
    "# companion limits\n",
    "P_min  = 66 * u.day                         # otherwise visible in K2 photometry\n",
    "Mp_min = 0  * u.Mjup                        # the planet can't have mass less than 0\n",
    "Mp_max = 80 * u.Mjup                        # the planet shouldn't exceed the substellar mass limit\n",
    "\n",
    "# eclipse parameters\n",
    "t_ecl = 0.5 * u.day                         # eclipse duration\n",
    "d_ecl = 0.6                                 # eclipse depth"
   ]
  },
  {
   "cell_type": "markdown",
   "metadata": {},
   "source": [
    "### Setting-up Mass and Period Grids"
   ]
  },
  {
   "cell_type": "code",
   "execution_count": null,
   "metadata": {},
   "outputs": [],
   "source": [
    "# we make a mass grid\n",
    "Mp = np.linspace(Mp_min, Mp_max, int((Mp_max - Mp_min).value) + 1)\n",
    "\n",
    "# we can determine the maximum period by saying that the semi-major axis in a circular orbit may not exceed rap_max\n",
    "P_max = 0\n",
    "for M in Ms:\n",
    "    P = np.ceil(oa.a_to_P(rap_max, M, Mp_min).to(u.day)) # round number of days\n",
    "    if P > P_max:\n",
    "        P_max = P\n",
    "\n",
    "# we make a period grid\n",
    "P = np.linspace(P_min, P_max, int((P_max - P_min).value) + 1)\n",
    "\n",
    "# we print the parameters\n",
    "print('Mass range is:   %.1f - %.1f %s' % (Mp_min.value, Mp_max.value, Mp.unit))\n",
    "print('Period range is: %d - %d %s' % (P_min.value, P_max.value, P.unit))"
   ]
  },
  {
   "cell_type": "markdown",
   "metadata": {},
   "source": [
    "### Determining Parameters"
   ]
  },
  {
   "cell_type": "markdown",
   "metadata": {},
   "source": [
    "Here we look at the parameters themselves and see if there is a large amount of parameter space that is blocked out by the constraints. The simplest constraints are those on $r_{Hill}$ and $r_{ap}$ as these are not dependent on the data collected from ground surveys. We therefore start with these constraints."
   ]
  },
  {
   "cell_type": "code",
   "execution_count": null,
   "metadata": {},
   "outputs": [],
   "source": [
    "# create lists\n",
    "es   = []\n",
    "rps  = []\n",
    "raps = []\n",
    "rhs  = []\n",
    "\n",
    "# populate lists\n",
    "for M, vp in zip(Ms, vs):\n",
    "    e, rp, rap, rh = oa.get_parameters(M, Mp, P, vp)\n",
    "    # append\n",
    "    es.append(e)\n",
    "    rps.append(rp)\n",
    "    raps.append(rap)\n",
    "    rhs.append(rh)\n"
   ]
  },
  {
   "cell_type": "markdown",
   "metadata": {},
   "source": [
    "### Determining Extent of Period and Mass"
   ]
  },
  {
   "cell_type": "markdown",
   "metadata": {},
   "source": [
    "The most obvious parameter to check the apastron distance $r_{ap}$ as this likely has the largest cut-off due to a strict constraint, but we enforce the constraint on apastron distance and the Hill radius."
   ]
  },
  {
   "cell_type": "code",
   "execution_count": null,
   "metadata": {},
   "outputs": [],
   "source": [
    "# determine r_ap and r_Hill masks\n",
    "rap_masks = []\n",
    "rh_masks  = []\n",
    "for rap, r, rh in zip(raps, rs, rhs):\n",
    "    # define\n",
    "    rap_mask = rap.value <= 3.2\n",
    "    rh_mask  = r.value <= 0.3 * rh.value\n",
    "    # append\n",
    "    rap_masks.append(rap_mask)\n",
    "    rh_masks.append(rh_mask)"
   ]
  },
  {
   "cell_type": "code",
   "execution_count": null,
   "metadata": {
    "scrolled": false
   },
   "outputs": [],
   "source": [
    "# plot all the different versions of one parameter to see the extent of P and Mp\n",
    "param_lbls = ['$%smag, A}$', '$%sstd, A}$', '$%smag, B}$', '$%sstd, B}$']\n",
    "\n",
    "for rap, lbl, rap_m, rh_m in zip(raps, param_lbls, rap_masks, rh_masks): \n",
    "    oa.plot_parameter(P, Mp, rap, lbl % 'r_{ap, ', rap_mask=rap_m, rh_mask=rh_m, vmin=0, vmax=3.2)"
   ]
  },
  {
   "cell_type": "markdown",
   "metadata": {},
   "source": [
    "From the above plots it is clear that the total limit for period is about $1200 \\, \\mathrm{days}$, and that the lower companion mass limit is about $2 \\, M_{jup}$. The period will be cut off at this value, but mass will continue to extend down to $0 \\, M_{jup}$ as we feel information is otherwise lost. The resolution of the grid can then be increased tenfold."
   ]
  },
  {
   "cell_type": "markdown",
   "metadata": {},
   "source": [
    "# Parameter Maps"
   ]
  },
  {
   "cell_type": "markdown",
   "metadata": {},
   "source": [
    "Here all the parameter maps are prepared with a high resolution grid for 4 situations: V928 Tau A and B, standard and magnetic models. The parameters considered are the apastron distance $r_{ap}$, periastron distance $r_{peri}$ the eccentricity $e$ and the Hill radius $r_H$."
   ]
  },
  {
   "cell_type": "code",
   "execution_count": null,
   "metadata": {},
   "outputs": [],
   "source": [
    "# maximum from above plots\n",
    "P_maxn = 1200 * u.day\n",
    "\n",
    "# new resolution grid\n",
    "Mpn = np.linspace(Mp_min, Mp_max, 10 * int((Mp_max - Mp_min).value) + 1)\n",
    "Pn  = np.linspace(P_min, P_maxn, 10 * int((P_maxn - P_min).value) + 1)"
   ]
  },
  {
   "cell_type": "code",
   "execution_count": null,
   "metadata": {},
   "outputs": [],
   "source": [
    "# get the parameters\n",
    "en   = []\n",
    "rpn  = []\n",
    "rapn = []\n",
    "rhn  = []\n",
    "\n",
    "# populate lists\n",
    "for M, vp in zip(Ms, vs):\n",
    "    e, rp, rap, rh = oa.get_parameters(M, Mpn, Pn, vp)\n",
    "    # append\n",
    "    en.append(e)\n",
    "    rpn.append(rp)\n",
    "    rapn.append(rap)\n",
    "    rhn.append(rh)"
   ]
  },
  {
   "cell_type": "code",
   "execution_count": null,
   "metadata": {},
   "outputs": [],
   "source": [
    "# determine r_ap and r_Hill masks\n",
    "rap_maskn = []\n",
    "rh_maskn  = []\n",
    "for rap, r, rh in zip(rapn, rs, rhn):\n",
    "    # define\n",
    "    rap_mask = rap.value <= 3.2\n",
    "    rh_mask  = r.value <= 0.3 * rh.value\n",
    "    # append\n",
    "    rap_maskn.append(rap_mask)\n",
    "    rh_maskn.append(rh_mask)"
   ]
  },
  {
   "cell_type": "code",
   "execution_count": null,
   "metadata": {},
   "outputs": [],
   "source": [
    "# save labels\n",
    "saveroot = 'plots/parameters/'\n",
    "savebases = ['%s_Amag.png', '%s_Astd.png', '%s_Bmag.png', '%s_Bstd.png']"
   ]
  },
  {
   "cell_type": "markdown",
   "metadata": {},
   "source": [
    "## Apastron Passage - $r_{ap}$"
   ]
  },
  {
   "cell_type": "code",
   "execution_count": null,
   "metadata": {
    "scrolled": false
   },
   "outputs": [],
   "source": [
    "for rap, lbl, rap_m, rh_m, sb in zip(rapn, param_lbls, rap_maskn, rh_maskn, savebases):\n",
    "    savename = saveroot + sb % 'rap'\n",
    "    param = lbl % 'r_{ap, '\n",
    "    oa.plot_parameter(Pn, Mpn, rap, param, rap_mask=rap_m, rh_mask=rh_m, vmin=0.2, vmax=3.2, savename=savename)"
   ]
  },
  {
   "cell_type": "markdown",
   "metadata": {},
   "source": [
    "## Periastron Passage - $r_p$"
   ]
  },
  {
   "cell_type": "code",
   "execution_count": null,
   "metadata": {
    "scrolled": false
   },
   "outputs": [],
   "source": [
    "for rp, lbl, rap_m, rh_m, sb in zip(rpn, param_lbls, rap_maskn, rh_maskn, savebases): \n",
    "    save = saveroot + sb % 'rp'\n",
    "    param = lbl % 'r_{p, '\n",
    "    oa.plot_parameter(Pn, Mpn, rp, param, rap_mask=rap_m, rh_mask=rh_m,\n",
    "                      vmin=0.1, vmax=0.3, lvls=10, tick_num=6, savename=save)"
   ]
  },
  {
   "cell_type": "markdown",
   "metadata": {},
   "source": [
    "## Hill Radius - $r_H$"
   ]
  },
  {
   "cell_type": "code",
   "execution_count": null,
   "metadata": {
    "scrolled": false
   },
   "outputs": [],
   "source": [
    "for rh, lbl, rap_m, rh_m, sb in zip(rhn, param_lbls, rap_maskn, rh_maskn, savebases):\n",
    "    save = saveroot + sb % 'rh'\n",
    "    param = lbl % 'r_{H, '\n",
    "    oa.plot_parameter(Pn, Mpn, rh, param, rap_mask=rap_m, rh_mask=rh_m, \n",
    "                      vmin=0.01, vmax=0.09, lvls=16, tick_num=9, savename=save)"
   ]
  },
  {
   "cell_type": "markdown",
   "metadata": {},
   "source": [
    "## Eccentricity - $e$"
   ]
  },
  {
   "cell_type": "code",
   "execution_count": null,
   "metadata": {
    "scrolled": false
   },
   "outputs": [],
   "source": [
    "for e, lbl, rap_m, rh_m, sb in zip(en, param_lbls, rap_maskn, rh_maskn, savebases):\n",
    "    save = saveroot + sb % 'e'\n",
    "    param = lbl % 'e_{'\n",
    "    oa.plot_parameter(Pn, Mpn, e, param, rap_mask=rap_m, rh_mask=rh_m, \n",
    "                      vmin=0.3, vmax=1, lvls=14, tick_num=8, savename=save)"
   ]
  },
  {
   "cell_type": "code",
   "execution_count": null,
   "metadata": {},
   "outputs": [],
   "source": []
  }
 ],
 "metadata": {
  "kernelspec": {
   "display_name": "Python 3",
   "language": "python",
   "name": "python3"
  },
  "language_info": {
   "codemirror_mode": {
    "name": "ipython",
    "version": 3
   },
   "file_extension": ".py",
   "mimetype": "text/x-python",
   "name": "python",
   "nbconvert_exporter": "python",
   "pygments_lexer": "ipython3",
   "version": "3.7.6"
  }
 },
 "nbformat": 4,
 "nbformat_minor": 4
}
